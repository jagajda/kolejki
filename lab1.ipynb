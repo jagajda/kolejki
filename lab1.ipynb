{
 "cells": [
  {
   "cell_type": "code",
   "execution_count": 1,
   "metadata": {},
   "outputs": [],
   "source": [
    "from itertools import combinations\n",
    "import numpy as np\n",
    "from scipy.special import binom\n",
    "import matplotlib.pyplot as plt"
   ]
  },
  {
   "cell_type": "code",
   "execution_count": 15,
   "metadata": {
    "scrolled": true
   },
   "outputs": [
    {
     "data": {
      "text/plain": [
       "[1.8, 1.2]"
      ]
     },
     "execution_count": 15,
     "metadata": {},
     "output_type": "execute_result"
    }
   ],
   "source": [
    "lam = 180\n",
    "mis = [100, 150]\n",
    "ros = [lam / i for i in mis] \n",
    "ros"
   ]
  },
  {
   "cell_type": "code",
   "execution_count": 3,
   "metadata": {},
   "outputs": [],
   "source": [
    "def calculate_sk(k, ros):\n",
    "    SK = set(combinations(ros, k))\n",
    "    products = []\n",
    "    for i in SK:\n",
    "        result = 1\n",
    "        for j in i:\n",
    "            result *= j\n",
    "        products.append(result)\n",
    "    products = np.array(products)\n",
    "    return np.sum(products)\n",
    "    "
   ]
  },
  {
   "cell_type": "code",
   "execution_count": 4,
   "metadata": {},
   "outputs": [],
   "source": [
    "def calculate_pi0(m, ros):\n",
    "    ks = range(0, m)\n",
    "    results = [calculate_sk(i, ros) / (np.math.factorial(i) * binom(m, i)) for i in ks]\n",
    "    last = (calculate_sk(m,ros) * calculate_sk(m-1,ros)) / (np.math.factorial(m) * (calculate_sk(m-1, ros) - calculate_sk(m,ros)))\n",
    "    return 1 / (1 + np.sum(results) + last)"
   ]
  },
  {
   "cell_type": "code",
   "execution_count": 45,
   "metadata": {},
   "outputs": [
    {
     "name": "stdout",
     "output_type": "stream",
     "text": [
      "Condition satsfied: True\n"
     ]
    }
   ],
   "source": [
    "def check_condition(ros):\n",
    "    if calculate_sk(len(ros), ros)/calculate_sk(len(ros) - 1, ros) < 1:\n",
    "        return True\n",
    "    else:\n",
    "        return False\n",
    "print('Condition satsfied: {}'.format(check_condition(ros)))"
   ]
  },
  {
   "cell_type": "code",
   "execution_count": 16,
   "metadata": {},
   "outputs": [
    {
     "data": {
      "text/plain": [
       "0.13592233009708737"
      ]
     },
     "execution_count": 16,
     "metadata": {},
     "output_type": "execute_result"
    }
   ],
   "source": [
    "pizero = calculate_pi0(len(ros), ros)\n",
    "pizero"
   ]
  },
  {
   "cell_type": "code",
   "execution_count": 17,
   "metadata": {},
   "outputs": [],
   "source": [
    "def calculate_pk(k, m, ros):\n",
    "    if k in range(0, m):\n",
    "        return calculate_pi0(m, ros) * (calculate_sk(k, ros)) / (np.math.factorial(k) * np.power(binom(m,k), k - m))\n",
    "    else:\n",
    "        return calculate_pi0(m, ros) * (calculate_sk(k, ros)) / (np.math.factorial(k) * np.power(calculate_sk(m-1, ros), k - m))"
   ]
  },
  {
   "cell_type": "code",
   "execution_count": 18,
   "metadata": {},
   "outputs": [
    {
     "data": {
      "text/plain": [
       "0.13592233009708737"
      ]
     },
     "execution_count": 18,
     "metadata": {},
     "output_type": "execute_result"
    }
   ],
   "source": [
    "calculate_pk(0, len(ros), ros)"
   ]
  },
  {
   "cell_type": "code",
   "execution_count": 54,
   "metadata": {},
   "outputs": [
    {
     "data": {
      "image/png": "[encoded data removed]",
      "text/plain": [
       "<Figure size 720x720 with 1 Axes>"
      ]
     },
     "metadata": {
      "needs_background": "light"
     },
     "output_type": "display_data"
    }
   ],
   "source": [
    "ks = range(0, 10)\n",
    "probabs = [calculate_pk(k, len(ros), ros) for k in ks]\n",
    "plt.figure(figsize = [10, 10])\n",
    "plt.title('p(k)')\n",
    "plt.plot(ks, probabs, linewidth = 5)\n",
    "for i in range(len(ks)):\n",
    "    plt.annotate('{0:.3f}'.format(probabs[i]), (ks[i], probabs[i]), xytext = (ks[i] + 0.2, probabs[i] + 0.05), \n",
    "                 arrowprops = {'arrowstyle': '->'})\n",
    "plt.ylim([-0.1, 1])\n",
    "plt.xlabel('k')\n",
    "plt.ylabel('p')\n",
    "plt.grid()\n",
    "plt.show()"
   ]
  },
  {
   "cell_type": "code",
   "execution_count": 21,
   "metadata": {},
   "outputs": [],
   "source": [
    "def calculate_avg_queue_size(m, ros):\n",
    "    return (calculate_sk(m -1, ros)) / (np.math.factorial(m) * np.power((calculate_sk(m-1, ros) / calculate_sk(m, ros) - 1), 2) * calculate_pi0(m, ros))"
   ]
  },
  {
   "cell_type": "code",
   "execution_count": 30,
   "metadata": {},
   "outputs": [],
   "source": [
    "def calculate_avg_occupied(m, ros):\n",
    "    return m * calculate_sk(m, ros) / calculate_sk(m-1, ros)"
   ]
  },
  {
   "cell_type": "code",
   "execution_count": 38,
   "metadata": {},
   "outputs": [],
   "source": [
    "def calculate_avg_system_notifications(m, ros):\n",
    "    return calculate_avg_queue_size(m, ros) + calculate_avg_occupied(m, ros)"
   ]
  },
  {
   "cell_type": "code",
   "execution_count": 44,
   "metadata": {},
   "outputs": [
    {
     "name": "stdout",
     "output_type": "stream",
     "text": [
      "Mean queue size: 72.971\n",
      "Mean number of occupied chanels: 1.440\n",
      "Average number of notifications in the system: 74.411\n",
      "Mean time spent in queue: 0.4054\n",
      "Mean time spent in system: 0.4134\n"
     ]
    }
   ],
   "source": [
    "print('Mean queue size: {0:.3f}'.format(calculate_avg_queue_size(len(ros), ros)))\n",
    "print('Mean number of occupied chanels: {0:.3f}'.format(calculate_avg_occupied(len(ros), ros)))\n",
    "print('Average number of notifications in the system: {0:.3f}'.format(calculate_avg_system_notifications(len(ros), ros)))\n",
    "print('Mean time spent in queue: {0:.4f}'.format(calculate_avg_queue_size(len(ros), ros)/lam))\n",
    "print('Mean time spent in system: {0:.4f}'.format(calculate_avg_system_notifications(len(ros), ros)/lam))"
   ]
  },
  {
   "cell_type": "code",
   "execution_count": null,
   "metadata": {},
   "outputs": [],
   "source": []
  }
 ],
 "metadata": {
  "kernelspec": {
   "display_name": "Python 3",
   "language": "python",
   "name": "python3"
  },
  "language_info": {
   "codemirror_mode": {
    "name": "ipython",
    "version": 3
   },
   "file_extension": ".py",
   "mimetype": "text/x-python",
   "name": "python",
   "nbconvert_exporter": "python",
   "pygments_lexer": "ipython3",
   "version": "3.8.5"
  }
 },
 "nbformat": 4,
 "nbformat_minor": 4
}
