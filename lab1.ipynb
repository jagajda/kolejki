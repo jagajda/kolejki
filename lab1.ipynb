{
 "cells": [
  {
   "cell_type": "code",
   "execution_count": 1,
   "metadata": {},
   "outputs": [],
   "source": [
    "from itertools import combinations\n",
    "import numpy as np\n",
    "from scipy.special import binom\n",
    "import matplotlib.pyplot as plt"
   ]
  },
  {
   "cell_type": "code",
   "execution_count": 15,
   "metadata": {
    "scrolled": true
   },
   "outputs": [
    {
     "data": {
      "text/plain": [
       "[1.8, 1.2]"
      ]
     },
     "execution_count": 15,
     "metadata": {},
     "output_type": "execute_result"
    }
   ],
   "source": [
    "lam = 180\n",
    "mis = [100, 150]\n",
    "ros = [lam / i for i in mis] \n",
    "ros"
   ]
  },
  {
   "cell_type": "code",
   "execution_count": 3,
   "metadata": {},
   "outputs": [],
   "source": [
    "def calculate_sk(k, ros):\n",
    "    SK = set(combinations(ros, k))\n",
    "    products = []\n",
    "    for i in SK:\n",
    "        result = 1\n",
    "        for j in i:\n",
    "            result *= j\n",
    "        products.append(result)\n",
    "    products = np.array(products)\n",
    "    return np.sum(products)\n",
    "    "
   ]
  },
  {
   "cell_type": "code",
   "execution_count": 4,
   "metadata": {},
   "outputs": [],
   "source": [
    "def calculate_pi0(m, ros):\n",
    "    ks = range(0, m)\n",
    "    results = [calculate_sk(i, ros) / (np.math.factorial(i) * binom(m, i)) for i in ks]\n",
    "    last = (calculate_sk(m,ros) * calculate_sk(m-1,ros)) / (np.math.factorial(m) * (calculate_sk(m-1, ros) - calculate_sk(m,ros)))\n",
    "    return 1 / (1 + np.sum(results) + last)"
   ]
  },
  {
   "cell_type": "code",
   "execution_count": 16,
   "metadata": {},
   "outputs": [
    {
     "data": {
      "text/plain": [
       "0.13592233009708737"
      ]
     },
     "execution_count": 16,
     "metadata": {},
     "output_type": "execute_result"
    }
   ],
   "source": [
    "pizero = calculate_pi0(len(ros), ros)\n",
    "pizero"
   ]
  },
  {
   "cell_type": "code",
   "execution_count": 17,
   "metadata": {},
   "outputs": [],
   "source": [
    "def calculate_pk(k, m, ros):\n",
    "    if k in range(0, m):\n",
    "        return calculate_pi0(m, ros) * (calculate_sk(k, ros)) / (np.math.factorial(k) * np.power(binom(m,k), k - m))\n",
    "    else:\n",
    "        return calculate_pi0(m, ros) * (calculate_sk(k, ros)) / (np.math.factorial(k) * np.power(calculate_sk(m-1, ros), k - m))"
   ]
  },
  {
   "cell_type": "code",
   "execution_count": 18,
   "metadata": {},
   "outputs": [
    {
     "data": {
      "text/plain": [
       "0.13592233009708737"
      ]
     },
     "execution_count": 18,
     "metadata": {},
     "output_type": "execute_result"
    }
   ],
   "source": [
    "calculate_pk(0, len(ros), ros)"
   ]
  },
  {
   "cell_type": "code",
   "execution_count": 19,
   "metadata": {},
   "outputs": [
    {
     "data": {
      "text/plain": [
       "[<matplotlib.lines.Line2D at 0x1a2da771490>]"
      ]
     },
     "execution_count": 19,
     "metadata": {},
     "output_type": "execute_result"
    },
    {
     "data": {
      "image/png": "[encoded data removed]",
      "text/plain": [
       "<Figure size 432x288 with 1 Axes>"
      ]
     },
     "metadata": {
      "needs_background": "light"
     },
     "output_type": "display_data"
    }
   ],
   "source": [
    "ks = range(0, 10)\n",
    "probabs = [calculate_pk(k, len(ros), ros) for k in ks]\n",
    "plt.plot(ks, probabs)"
   ]
  },
  {
   "cell_type": "code",
   "execution_count": 21,
   "metadata": {},
   "outputs": [],
   "source": [
    "def calculate_avg_queue_size(m, ros):\n",
    "    return (calculate_sk(m -1, ros)) / (np.math.factorial(m) * np.power((calculate_sk(m-1, ros) / calculate_sk(m, ros) - 1), 2) * calculate_pi0(m, ros))"
   ]
  },
  {
   "cell_type": "code",
   "execution_count": 30,
   "metadata": {},
   "outputs": [],
   "source": [
    "def calculate_avg_occupied(m, ros):\n",
    "    return m * calculate_sk(m, ros) / calculate_sk(m-1, ros)"
   ]
  },
  {
   "cell_type": "code",
   "execution_count": 31,
   "metadata": {},
   "outputs": [],
   "source": [
    "def calculate_avg_system_notifiactions(m, ros):\n",
    "    return calculate_avg_queue_size(m, ros) + calculate_avg_occupied(m, ros)"
   ]
  },
  {
   "cell_type": "code",
   "execution_count": 32,
   "metadata": {},
   "outputs": [
    {
     "data": {
      "text/plain": [
       "72.9708454810496"
      ]
     },
     "execution_count": 32,
     "metadata": {},
     "output_type": "execute_result"
    }
   ],
   "source": [
    "calculate_avg_queue_size(len(ros), ros)"
   ]
  },
  {
   "cell_type": "code",
   "execution_count": 33,
   "metadata": {},
   "outputs": [
    {
     "data": {
      "text/plain": [
       "1.4400000000000002"
      ]
     },
     "execution_count": 33,
     "metadata": {},
     "output_type": "execute_result"
    }
   ],
   "source": [
    "calculate_avg_occupied(len(ros), ros)"
   ]
  },
  {
   "cell_type": "code",
   "execution_count": 34,
   "metadata": {},
   "outputs": [
    {
     "data": {
      "text/plain": [
       "74.41084548104959"
      ]
     },
     "execution_count": 34,
     "metadata": {},
     "output_type": "execute_result"
    }
   ],
   "source": [
    "calculate_avg_system_notifiactions(len(ros), ros)"
   ]
  },
  {
   "cell_type": "code",
   "execution_count": null,
   "metadata": {},
   "outputs": [],
   "source": []
  }
 ],
 "metadata": {
  "kernelspec": {
   "display_name": "Python 3",
   "language": "python",
   "name": "python3"
  },
  "language_info": {
   "codemirror_mode": {
    "name": "ipython",
    "version": 3
   },
   "file_extension": ".py",
   "mimetype": "text/x-python",
   "name": "python",
   "nbconvert_exporter": "python",
   "pygments_lexer": "ipython3",
   "version": "3.8.5"
  }
 },
 "nbformat": 4,
 "nbformat_minor": 4
}
