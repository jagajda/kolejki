{
 "cells": [
  {
   "cell_type": "code",
   "execution_count": 43,
   "metadata": {},
   "outputs": [],
   "source": [
    "from itertools import combinations\n",
    "import numpy as np\n",
    "from scipy.special import binom\n",
    "import matplotlib.pyplot as plt"
   ]
  },
  {
   "cell_type": "code",
   "execution_count": 63,
   "metadata": {},
   "outputs": [
    {
     "data": {
      "text/plain": [
       "[5.0, 2.5]"
      ]
     },
     "execution_count": 63,
     "metadata": {},
     "output_type": "execute_result"
    }
   ],
   "source": [
    "lam = 5000\n",
    "mis = [1 / 0.001, 1 / 0.0005]\n",
    "ros = [lam / i for i in mis] \n",
    "ros"
   ]
  },
  {
   "cell_type": "code",
   "execution_count": 64,
   "metadata": {},
   "outputs": [],
   "source": [
    "def calculateSK(k, ros):\n",
    "    SK = set(combinations(ros, k))\n",
    "    products = []\n",
    "    for i in SK:\n",
    "        result = 1\n",
    "        for j in i:\n",
    "            result *= j\n",
    "        products.append(result)\n",
    "    products = np.array(products)\n",
    "    return np.sum(products)\n",
    "    "
   ]
  },
  {
   "cell_type": "code",
   "execution_count": 65,
   "metadata": {},
   "outputs": [],
   "source": [
    "def calculate_pi0(m, ros):\n",
    "    ks = range(0, m)\n",
    "    results = [calculateSK(i, ros) / (np.math.factorial(i) * binom(m, i)) for i in ks]\n",
    "    last = (calculateSK(m,ros) * calculateSK(m-1,ros)) / (np.math.factorial(m) * (calculateSK(m-1, ros) - calculateSK(m,ros)))\n",
    "    return 1 / (1 + np.sum(results) + last)"
   ]
  },
  {
   "cell_type": "code",
   "execution_count": 66,
   "metadata": {},
   "outputs": [
    {
     "data": {
      "text/plain": [
       "-0.27586206896551724"
      ]
     },
     "execution_count": 66,
     "metadata": {},
     "output_type": "execute_result"
    }
   ],
   "source": [
    "pizero = calculate_pi0(len(ros), ros)\n",
    "pizero"
   ]
  },
  {
   "cell_type": "code",
   "execution_count": 67,
   "metadata": {},
   "outputs": [],
   "source": [
    "def calculate_pk(k, m, ros):\n",
    "    if k in range(0, m):\n",
    "        return calculate_pi0(m, ros) * (calculateSK(k, ros)) / (np.math.factorial(k) * np.power(binom(m,k), k - m))\n",
    "    else:\n",
    "        return calculate_pi0(m, ros) * (calculateSK(k, ros)) / (np.math.factorial(k) * np.power(calculateSK(m-1, ros), k - m))"
   ]
  },
  {
   "cell_type": "code",
   "execution_count": 68,
   "metadata": {},
   "outputs": [
    {
     "data": {
      "text/plain": [
       "-0.27586206896551724"
      ]
     },
     "execution_count": 68,
     "metadata": {},
     "output_type": "execute_result"
    }
   ],
   "source": [
    "calculate_pk(0, len(ros), ros)"
   ]
  },
  {
   "cell_type": "code",
   "execution_count": 69,
   "metadata": {},
   "outputs": [
    {
     "data": {
      "text/plain": [
       "[<matplotlib.lines.Line2D at 0x24b19645128>]"
      ]
     },
     "execution_count": 69,
     "metadata": {},
     "output_type": "execute_result"
    },
    {
     "data": {
      "image/png": "[encoded data removed]",
      "text/plain": [
       "<Figure size 432x288 with 1 Axes>"
      ]
     },
     "metadata": {
      "needs_background": "light"
     },
     "output_type": "display_data"
    }
   ],
   "source": [
    "ks = range(0, 10)\n",
    "probabs = [calculate_pk(k, len(ros), ros) for k in ks]\n",
    "plt.plot(ks, probabs)"
   ]
  },
  {
   "cell_type": "code",
   "execution_count": null,
   "metadata": {},
   "outputs": [],
   "source": []
  }
 ],
 "metadata": {
  "kernelspec": {
   "display_name": "Python 3",
   "language": "python",
   "name": "python3"
  },
  "language_info": {
   "codemirror_mode": {
    "name": "ipython",
    "version": 3
   },
   "file_extension": ".py",
   "mimetype": "text/x-python",
   "name": "python",
   "nbconvert_exporter": "python",
   "pygments_lexer": "ipython3",
   "version": "3.6.10"
  }
 },
 "nbformat": 4,
 "nbformat_minor": 4
}
