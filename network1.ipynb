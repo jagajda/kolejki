{
 "cells": [
  {
   "cell_type": "code",
   "execution_count": 1,
   "metadata": {},
   "outputs": [
    {
     "data": {
      "text/plain": [
       "[[[1, 0, 0, 0, 0],\n",
       "  [0, 0, 0, 1, 0],\n",
       "  [0, 0, 0, 0, 0],\n",
       "  [0, 0, 0, 0, 0],\n",
       "  [0, 0, 0, 0, 1]],\n",
       " [[1, 0, 0, 0, 0],\n",
       "  [0, 0.8, 0.2, 0, 0],\n",
       "  [0, 0, 0, 0, 1],\n",
       "  [0, 0, 0, 0, 1],\n",
       "  [0, 0, 0, 0, 0]],\n",
       " [[1, 0, 0, 0, 0],\n",
       "  [0, 0, 0, 1, 0],\n",
       "  [0, 0, 0, 0, 1],\n",
       "  [0, 0, 0, 0, 1],\n",
       "  [0, 0.5, 0.5, 0, 0]],\n",
       " [[1, 0, 0, 0, 0],\n",
       "  [0, 0.4, 0.6, 0, 0],\n",
       "  [0, 0, 0, 1, 0],\n",
       "  [0, 0, 0, 1, 0],\n",
       "  [0, 0, 0, 0, 1]]]"
      ]
     },
     "execution_count": 1,
     "metadata": {},
     "output_type": "execute_result"
    }
   ],
   "source": [
    "import numpy as np\n",
    "\n",
    "lam = 180\n",
    "pClass1 = [[1, 0, 0, 0, 0], [0, 0, 0, 1, 0], [0, 0, 0, 0, 0], [0, 0, 0, 0, 0], [0, 0, 0, 0, 1]]\n",
    "pClass2 = [[1, 0, 0, 0, 0], [0, 0.8, 0.2, 0, 0], [0, 0, 0, 0, 1], [0, 0, 0, 0, 1], [0, 0, 0, 0, 0]]\n",
    "pClass3 = [[1, 0, 0, 0, 0], [0, 0, 0, 1, 0], [0, 0, 0, 0, 1], [0, 0, 0, 0, 1], [0, 0.5, 0.5, 0, 0]]\n",
    "pClass4 = [[1, 0, 0, 0, 0], [0, 0.4, 0.6, 0, 0], [0, 0, 0, 1, 0], [0, 0, 0, 1, 0], [0, 0, 0, 0, 1]]\n",
    "p = [pClass1, pClass2, pClass3, pClass4]\n",
    "p"
   ]
  },
  {
   "cell_type": "code",
   "execution_count": 45,
   "metadata": {},
   "outputs": [
    {
     "data": {
      "text/plain": [
       "[180, 0, 0, 0, 0, 180, 0, 0, 0, 0, 180, 0, 0, 0, 0, 180, 0, 0, 0, 0]"
      ]
     },
     "execution_count": 45,
     "metadata": {},
     "output_type": "execute_result"
    }
   ],
   "source": [
    "lambdas0 = []\n",
    "for r in range(4):\n",
    "    lambdas0\n",
    "    for i in range(5):\n",
    "        lambdas0.append(lam*p[r][0][i])\n",
    "lambdas0"
   ]
  },
  {
   "cell_type": "code",
   "execution_count": 47,
   "metadata": {},
   "outputs": [],
   "source": [
    "lambda_ir = np.zeros([5,4])\n",
    "lambda_ir[0,0] = lam\n",
    "lambda_ir[0,1] = lam\n",
    "lambda_ir[0,2] = lam\n",
    "lambda_ir[0,3] = lam\n",
    "#\n",
    "lambda_ir[1,0] = 0\n",
    "lambda_ir[1,1] = lam * 0.8\n",
    "lambda_ir[1,2] = lam * 0.5\n",
    "lambda_ir[1,3] = lam * 0.4\n",
    "#\n",
    "lambda_ir[2,0] = 0\n",
    "lambda_ir[2,1] = lam * 0.2\n",
    "lambda_ir[2,2] = lam * 0.5\n",
    "lambda_ir[2,3] = lam * 0.6\n",
    "#\n",
    "lambda_ir[3,0] = lam\n",
    "lambda_ir[3,1] = 0\n",
    "lambda_ir[3,2] = lam\n",
    "lambda_ir[3,3] = 0.4 * lam + 0.6 * lam\n",
    "#\n",
    "lambda_ir[4,0] = lam\n",
    "lambda_ir[4,1] = lam\n",
    "lambda_ir[4,2] = lam\n",
    "lambda_ir[4,3] = lam"
   ]
  },
  {
   "cell_type": "code",
   "execution_count": 48,
   "metadata": {},
   "outputs": [
    {
     "data": {
      "text/plain": [
       "array([[180., 180., 180., 180.],\n",
       "       [  0., 144.,  90.,  72.],\n",
       "       [  0.,  36.,  90., 108.],\n",
       "       [180.,   0., 180., 180.],\n",
       "       [180., 180., 180., 180.]])"
      ]
     },
     "execution_count": 48,
     "metadata": {},
     "output_type": "execute_result"
    }
   ],
   "source": [
    "lambda_ir"
   ]
  },
  {
   "cell_type": "code",
   "execution_count": 49,
   "metadata": {
    "collapsed": true
   },
   "outputs": [
    {
     "data": {
      "text/plain": [
       "array([[ 1. , -1. ,  0. ,  0. ,  0. ,  0. ,  0. ,  0. ,  0. ,  0. ,  0. ,\n",
       "         0. ,  0. ,  0. ,  0. ,  0. ,  0. ,  0. ,  0. ,  0. ],\n",
       "       [ 1. ,  0. ,  0. ,  0. , -1. ,  0. ,  0. ,  0. ,  0. ,  0. ,  0. ,\n",
       "         0. ,  0. ,  0. ,  0. ,  0. ,  0. ,  0. ,  0. ,  0. ],\n",
       "       [ 1. ,  0. ,  0. ,  0. ,  0. ,  0. ,  0. ,  0. ,  0. ,  0. ,  0. ,\n",
       "         0. ,  0. ,  0. ,  0. ,  0. ,  0. ,  0. ,  0. ,  0. ],\n",
       "       [ 1. ,  0. ,  0. ,  0. ,  0. ,  0. ,  0. ,  0. ,  0. ,  0. ,  0. ,\n",
       "         0. ,  0. ,  0. ,  0. ,  0. ,  0. ,  0. ,  0. ,  0. ],\n",
       "       [ 1. ,  0. ,  0. ,  0. ,  0. , -1. ,  0. ,  0. ,  0. ,  0. ,  0. ,\n",
       "         0. ,  0. ,  0. ,  0. ,  0. ,  0. ,  0. ,  0. ,  0. ],\n",
       "       [ 1. , -1. ,  0. ,  0. ,  0. ,  0. ,  0. ,  0. ,  0. ,  0. ,  0. ,\n",
       "         0. ,  0. ,  0. ,  0. ,  0. ,  0. ,  0. ,  0. ,  0. ],\n",
       "       [ 1. ,  0. , -0.8, -0.2,  0. ,  0. ,  0. ,  0. ,  0. ,  0. ,  0. ,\n",
       "         0. ,  0. ,  0. ,  0. ,  0. ,  0. ,  0. ,  0. ,  0. ],\n",
       "       [ 1. ,  0. ,  0. ,  0. ,  0. , -1. ,  0. ,  0. ,  0. ,  0. ,  0. ,\n",
       "         0. ,  0. ,  0. ,  0. ,  0. ,  0. ,  0. ,  0. ,  0. ],\n",
       "       [ 1. ,  0. ,  0. ,  0. ,  0. , -1. ,  0. ,  0. ,  0. ,  0. ,  0. ,\n",
       "         0. ,  0. ,  0. ,  0. ,  0. ,  0. ,  0. ,  0. ,  0. ],\n",
       "       [ 1. ,  0. ,  0. ,  0. ,  0. ,  0. ,  0. ,  0. ,  0. ,  0. ,  0. ,\n",
       "         0. ,  0. ,  0. ,  0. ,  0. ,  0. ,  0. ,  0. ,  0. ],\n",
       "       [ 1. , -1. ,  0. ,  0. ,  0. ,  0. ,  0. ,  0. ,  0. ,  0. ,  0. ,\n",
       "         0. ,  0. ,  0. ,  0. ,  0. ,  0. ,  0. ,  0. ,  0. ],\n",
       "       [ 1. ,  0. ,  0. ,  0. , -1. ,  0. ,  0. ,  0. ,  0. ,  0. ,  0. ,\n",
       "         0. ,  0. ,  0. ,  0. ,  0. ,  0. ,  0. ,  0. ,  0. ],\n",
       "       [ 1. ,  0. ,  0. ,  0. ,  0. , -1. ,  0. ,  0. ,  0. ,  0. ,  0. ,\n",
       "         0. ,  0. ,  0. ,  0. ,  0. ,  0. ,  0. ,  0. ,  0. ],\n",
       "       [ 1. ,  0. ,  0. ,  0. ,  0. , -1. ,  0. ,  0. ,  0. ,  0. ,  0. ,\n",
       "         0. ,  0. ,  0. ,  0. ,  0. ,  0. ,  0. ,  0. ,  0. ],\n",
       "       [ 1. ,  0. , -0.5, -0.5,  0. ,  0. ,  0. ,  0. ,  0. ,  0. ,  0. ,\n",
       "         0. ,  0. ,  0. ,  0. ,  0. ,  0. ,  0. ,  0. ,  0. ],\n",
       "       [ 1. , -1. ,  0. ,  0. ,  0. ,  0. ,  0. ,  0. ,  0. ,  0. ,  0. ,\n",
       "         0. ,  0. ,  0. ,  0. ,  0. ,  0. ,  0. ,  0. ,  0. ],\n",
       "       [ 1. ,  0. , -0.4, -0.6,  0. ,  0. ,  0. ,  0. ,  0. ,  0. ,  0. ,\n",
       "         0. ,  0. ,  0. ,  0. ,  0. ,  0. ,  0. ,  0. ,  0. ],\n",
       "       [ 1. ,  0. ,  0. ,  0. , -1. ,  0. ,  0. ,  0. ,  0. ,  0. ,  0. ,\n",
       "         0. ,  0. ,  0. ,  0. ,  0. ,  0. ,  0. ,  0. ,  0. ],\n",
       "       [ 1. ,  0. ,  0. ,  0. , -1. ,  0. ,  0. ,  0. ,  0. ,  0. ,  0. ,\n",
       "         0. ,  0. ,  0. ,  0. ,  0. ,  0. ,  0. ,  0. ,  0. ],\n",
       "       [ 1. ,  0. ,  0. ,  0. ,  0. , -1. ,  0. ,  0. ,  0. ,  0. ,  0. ,\n",
       "         0. ,  0. ,  0. ,  0. ,  0. ,  0. ,  0. ,  0. ,  0. ]])"
      ]
     },
     "execution_count": 49,
     "metadata": {},
     "output_type": "execute_result"
    }
   ],
   "source": [
    "#Do not run\n",
    "A = np.zeros([20,20])\n",
    "for r in range(4):\n",
    "    for i in range(5):\n",
    "        A[r*5 + i, 0] = 1\n",
    "        for j in range(1, 6):\n",
    "            A[r*5 + i,j] = -p[r][i][j - 1]       \n",
    "A            "
   ]
  },
  {
   "cell_type": "code",
   "execution_count": 51,
   "metadata": {},
   "outputs": [
    {
     "data": {
      "text/plain": [
       "array([[150., 150., 150., 150.],\n",
       "       [  0., 120., 120., 120.],\n",
       "       [  0., 100., 100., 100.],\n",
       "       [ 95.,   0.,  95.,  95.],\n",
       "       [120., 120., 120., 120.]])"
      ]
     },
     "execution_count": 51,
     "metadata": {},
     "output_type": "execute_result"
    }
   ],
   "source": [
    "m_i = [1, 1, 1, 4, 1]\n",
    "mi_ir = np.zeros([5,4])\n",
    "mi_ir[0,:] = np.array([150, 150, 150, 150])\n",
    "mi_ir[1,:] = np.array([0, 120, 120, 120])\n",
    "mi_ir[2,:] = np.array([0, 100, 100, 100])\n",
    "mi_ir[3,:] = np.array([95, 0, 95, 95])\n",
    "mi_ir[4,:] = np.array([120, 120, 120, 120])\n",
    "mi_ir"
   ]
  },
  {
   "cell_type": "code",
   "execution_count": 54,
   "metadata": {},
   "outputs": [
    {
     "name": "stderr",
     "output_type": "stream",
     "text": [
      "C:\\Users\\kubag\\Anaconda3\\envs\\deeplearning\\lib\\site-packages\\ipykernel_launcher.py:4: RuntimeWarning: invalid value encountered in double_scalars\n",
      "  after removing the cwd from sys.path.\n"
     ]
    },
    {
     "data": {
      "text/plain": [
       "array([[1.2       , 1.2       , 1.2       , 1.2       ],\n",
       "       [0.        , 1.2       , 0.75      , 0.6       ],\n",
       "       [0.        , 0.36      , 0.9       , 1.08      ],\n",
       "       [0.47368421, 0.        , 0.47368421, 0.47368421],\n",
       "       [1.5       , 1.5       , 1.5       , 1.5       ]])"
      ]
     },
     "execution_count": 54,
     "metadata": {},
     "output_type": "execute_result"
    }
   ],
   "source": [
    "ro_ir = np.zeros([5, 4])\n",
    "for i in range(5):\n",
    "    for r in range(4):\n",
    "        ro_ir[i,r] = lambda_ir[i,r] / (m_i[i] * mi_ir[i,r])\n",
    "ro_ir = np.nan_to_num(ro_ir)\n",
    "ro_ir"
   ]
  },
  {
   "cell_type": "code",
   "execution_count": null,
   "metadata": {},
   "outputs": [],
   "source": [
    "def calculate_pi_k(i, k, m):\n",
    "    "
   ]
  }
 ],
 "metadata": {
  "kernelspec": {
   "display_name": "Python 3",
   "language": "python",
   "name": "python3"
  },
  "language_info": {
   "codemirror_mode": {
    "name": "ipython",
    "version": 3
   },
   "file_extension": ".py",
   "mimetype": "text/x-python",
   "name": "python",
   "nbconvert_exporter": "python",
   "pygments_lexer": "ipython3",
   "version": "3.6.10"
  }
 },
 "nbformat": 4,
 "nbformat_minor": 4
}
